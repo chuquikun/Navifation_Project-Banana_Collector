{
 "cells": [
  {
   "cell_type": "markdown",
   "metadata": {},
   "source": [
    "# Navigation\n",
    "\n",
    "---\n",
    "\n",
    "In this notebook, you will learn how to use the Unity ML-Agents environment for the first project of the [Deep Reinforcement Learning Nanodegree](https://www.udacity.com/course/deep-reinforcement-learning-nanodegree--nd893).\n",
    "\n",
    "### 1. Start the Environment\n",
    "\n",
    "We begin by importing some necessary packages.  If the code cell below returns an error, please revisit the project instructions to double-check that you have installed [Unity ML-Agents](https://github.com/Unity-Technologies/ml-agents/blob/master/docs/Installation.md) and [NumPy](http://www.numpy.org/)."
   ]
  },
  {
   "cell_type": "code",
   "execution_count": 1,
   "metadata": {},
   "outputs": [],
   "source": [
    "from unityagents import UnityEnvironment\n",
    "import numpy as np\n",
    "from collections import deque\n",
    "import matplotlib.pyplot as plt\n",
    "%matplotlib inline"
   ]
  },
  {
   "cell_type": "markdown",
   "metadata": {},
   "source": [
    "Next, we will start the environment!  **_Before running the code cell below_**, change the `file_name` parameter to match the location of the Unity environment that you downloaded.\n",
    "\n",
    "- **Mac**: `\"path/to/Banana.app\"`\n",
    "- **Windows** (x86): `\"path/to/Banana_Windows_x86/Banana.exe\"`\n",
    "- **Windows** (x86_64): `\"path/to/Banana_Windows_x86_64/Banana.exe\"`\n",
    "- **Linux** (x86): `\"path/to/Banana_Linux/Banana.x86\"`\n",
    "- **Linux** (x86_64): `\"path/to/Banana_Linux/Banana.x86_64\"`\n",
    "- **Linux** (x86, headless): `\"path/to/Banana_Linux_NoVis/Banana.x86\"`\n",
    "- **Linux** (x86_64, headless): `\"path/to/Banana_Linux_NoVis/Banana.x86_64\"`\n",
    "\n",
    "For instance, if you are using a Mac, then you downloaded `Banana.app`.  If this file is in the same folder as the notebook, then the line below should appear as follows:\n",
    "```\n",
    "env = UnityEnvironment(file_name=\"Banana.app\")\n",
    "```"
   ]
  },
  {
   "cell_type": "code",
   "execution_count": 2,
   "metadata": {},
   "outputs": [],
   "source": [
    "import torch\n",
    "import torch.nn as nn\n",
    "import torch.nn.functional as F\n",
    "from collections import OrderedDict,deque"
   ]
  },
  {
   "cell_type": "code",
   "execution_count": 3,
   "metadata": {},
   "outputs": [],
   "source": [
    "from dqn_agent import Agent\n",
    "from collections import deque"
   ]
  },
  {
   "cell_type": "markdown",
   "metadata": {},
   "source": [
    "## Loading the model"
   ]
  },
  {
   "cell_type": "code",
   "execution_count": 4,
   "metadata": {},
   "outputs": [],
   "source": [
    "def load_trained_agent(filepath):\n",
    "    checkpoint = torch.load(filepath)\n",
    "    agent = Agent(\n",
    "                  checkpoint['state_size'],\n",
    "                  checkpoint['action_size'],\n",
    "                  checkpoint['hidden_layers'],\n",
    "                  checkpoint['p'],\n",
    "                  checkpoint['seed'])\n",
    "\n",
    "    agent.qnetwork_local.load_state_dict(checkpoint['state_dict'])\n",
    "    \n",
    "    return agent"
   ]
  },
  {
   "cell_type": "code",
   "execution_count": 5,
   "metadata": {},
   "outputs": [
    {
     "name": "stdout",
     "output_type": "stream",
     "text": [
      "/home/chuqui/Fernando/DRL/Navigation_Project-Banannas_Collector\r\n"
     ]
    }
   ],
   "source": [
    "!pwd"
   ]
  },
  {
   "cell_type": "code",
   "execution_count": 6,
   "metadata": {},
   "outputs": [
    {
     "name": "stderr",
     "output_type": "stream",
     "text": [
      "INFO:unityagents:\n",
      "'Academy' started successfully!\n",
      "Unity Academy name: Academy\n",
      "        Number of Brains: 1\n",
      "        Number of External Brains : 1\n",
      "        Lesson number : 0\n",
      "        Reset Parameters :\n",
      "\t\t\n",
      "Unity brain name: BananaBrain\n",
      "        Number of Visual Observations (per agent): 0\n",
      "        Vector Observation space type: continuous\n",
      "        Vector Observation space size (per agent): 37\n",
      "        Number of stacked Vector Observation: 1\n",
      "        Vector Action space type: discrete\n",
      "        Vector Action space size (per agent): 4\n",
      "        Vector Action descriptions: , , , \n"
     ]
    }
   ],
   "source": [
    "env = UnityEnvironment(file_name=\"./Banana_Linux/Banana.x86_64\")\n",
    "#env = UnityEnvironment(file_name=\"./Banana_Linux_NoVis/Banana.x86_64\")"
   ]
  },
  {
   "cell_type": "code",
   "execution_count": 7,
   "metadata": {},
   "outputs": [],
   "source": [
    "# get the default brain\n",
    "brain_name = env.brain_names[0]\n",
    "brain = env.brains[brain_name]"
   ]
  },
  {
   "cell_type": "code",
   "execution_count": 9,
   "metadata": {},
   "outputs": [
    {
     "name": "stdout",
     "output_type": "stream",
     "text": [
      "Score: 22.00\n"
     ]
    }
   ],
   "source": [
    "# Instantiate an agent with an already trained Q-Network\n",
    "agent = load_trained_agent('checkpoint.pth')\n",
    "\n",
    "env_info = env.reset(train_mode=False)[brain_name]\n",
    "score = 0\n",
    "while True:\n",
    "    state = env_info.vector_observations[0]  # get the current state\n",
    "    action = agent.act(state)\n",
    "    env_info = env.step(action)[brain_name]        # send the action to the environment\n",
    "    state = env_info.vector_observations[0]        # get the next state\n",
    "    reward = env_info.rewards[0]                   # get the reward\n",
    "    done = env_info.local_done[0]                  # see if episode has finished\n",
    "    score += reward\n",
    "    if done:\n",
    "        break\n",
    "\n",
    "print('Score: {:.2f}'.format(score))"
   ]
  },
  {
   "cell_type": "code",
   "execution_count": 14,
   "metadata": {},
   "outputs": [],
   "source": [
    "def run_agent():\n",
    "    env_info = env.reset(train_mode=False)[brain_name]\n",
    "    score = 0\n",
    "    while True:\n",
    "        state = env_info.vector_observations[0]  # get the current state\n",
    "        action = agent.act(state)\n",
    "        env_info = env.step(action)[brain_name]        # send the action to the environment\n",
    "        state = env_info.vector_observations[0]        # get the next state\n",
    "        reward = env_info.rewards[0]                   # get the reward\n",
    "        done = env_info.local_done[0]                  # see if episode has finished\n",
    "        score += reward\n",
    "        if done:\n",
    "            return score"
   ]
  },
  {
   "cell_type": "code",
   "execution_count": 28,
   "metadata": {},
   "outputs": [
    {
     "data": {
      "text/plain": [
       "[11.0,\n",
       " 7.0,\n",
       " 22.0,\n",
       " 9.0,\n",
       " 12.0,\n",
       " 17.0,\n",
       " 10.0,\n",
       " 13.0,\n",
       " 14.0,\n",
       " 14.0,\n",
       " 16.0,\n",
       " 5.0,\n",
       " 14.0,\n",
       " 16.0,\n",
       " 13.0,\n",
       " 0.0,\n",
       " 19.0,\n",
       " 12.0,\n",
       " 9.0,\n",
       " 11.0,\n",
       " 11.0,\n",
       " 9.0,\n",
       " 17.0,\n",
       " 21.0,\n",
       " 11.0,\n",
       " 5.0,\n",
       " 2.0,\n",
       " 0.0,\n",
       " 9.0,\n",
       " 17.0,\n",
       " 13.0,\n",
       " 0.0,\n",
       " 4.0,\n",
       " 4.0,\n",
       " 11.0,\n",
       " 14.0,\n",
       " 17.0,\n",
       " 18.0,\n",
       " 28.0,\n",
       " 5.0,\n",
       " 15.0,\n",
       " 11.0,\n",
       " 3.0,\n",
       " 13.0,\n",
       " 5.0,\n",
       " 4.0,\n",
       " 2.0,\n",
       " 13.0,\n",
       " 15.0,\n",
       " 9.0,\n",
       " 4.0,\n",
       " 15.0,\n",
       " 12.0,\n",
       " 18.0,\n",
       " 9.0,\n",
       " 17.0,\n",
       " 16.0,\n",
       " 7.0,\n",
       " 4.0,\n",
       " 16.0,\n",
       " 0.0,\n",
       " 13.0,\n",
       " 13.0,\n",
       " 11.0,\n",
       " 9.0,\n",
       " 14.0,\n",
       " 16.0,\n",
       " 17.0,\n",
       " 16.0,\n",
       " 10.0,\n",
       " 4.0,\n",
       " 16.0,\n",
       " 18.0,\n",
       " 8.0,\n",
       " 18.0,\n",
       " 3.0,\n",
       " 16.0,\n",
       " 12.0,\n",
       " 9.0,\n",
       " 21.0,\n",
       " 13.0,\n",
       " 13.0,\n",
       " 11.0,\n",
       " 14.0,\n",
       " 2.0,\n",
       " 3.0,\n",
       " 1.0,\n",
       " 14.0,\n",
       " 18.0,\n",
       " 21.0,\n",
       " 20.0,\n",
       " 21.0,\n",
       " 12.0,\n",
       " 2.0,\n",
       " 0.0,\n",
       " 5.0,\n",
       " 11.0,\n",
       " 8.0,\n",
       " 4.0,\n",
       " 1.0]"
      ]
     },
     "execution_count": 28,
     "metadata": {},
     "output_type": "execute_result"
    }
   ],
   "source": [
    "hundred_runs = [run_agent() for i in range(100)]\n",
    "hundred_runs"
   ]
  },
  {
   "cell_type": "code",
   "execution_count": 30,
   "metadata": {},
   "outputs": [
    {
     "data": {
      "text/plain": [
       "28.0"
      ]
     },
     "execution_count": 30,
     "metadata": {},
     "output_type": "execute_result"
    }
   ],
   "source": [
    "np.max(hundred_runs)"
   ]
  },
  {
   "cell_type": "code",
   "execution_count": 8,
   "metadata": {},
   "outputs": [],
   "source": [
    "#env.close()"
   ]
  }
 ],
 "metadata": {
  "kernelspec": {
   "display_name": "dqn_bca",
   "language": "python",
   "name": "dqn_bca"
  },
  "language_info": {
   "codemirror_mode": {
    "name": "ipython",
    "version": 3
   },
   "file_extension": ".py",
   "mimetype": "text/x-python",
   "name": "python",
   "nbconvert_exporter": "python",
   "pygments_lexer": "ipython3",
   "version": "3.6.12"
  }
 },
 "nbformat": 4,
 "nbformat_minor": 2
}
